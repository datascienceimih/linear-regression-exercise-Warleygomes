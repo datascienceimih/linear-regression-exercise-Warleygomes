{
  "nbformat": 4,
  "nbformat_minor": 0,
  "metadata": {
    "colab": {
      "name": "regre_boston_credit_exercise.ipynb",
      "version": "0.3.2",
      "provenance": [],
      "collapsed_sections": []
    },
    "kernelspec": {
      "name": "python3",
      "display_name": "Python 3"
    }
  },
  "cells": [
    {
      "metadata": {
        "id": "KdjMX57KS5yE",
        "colab_type": "text"
      },
      "cell_type": "markdown",
      "source": [
        "  **Regressão Linear**\n",
        "\n",
        "Exercício 1\n",
        "\n",
        "---\n",
        "Parte 1- \n",
        "\n",
        "Abra o banco de dados Boston [(conhecer melhor sobre esse dataset? click aqui:)](https://www.cs.toronto.edu/~delve/data/boston/bostonDetail.html)e estime 3 regressões:\n",
        "\n",
        "1.   Prevendo medv usando como preditor lstat;\n",
        "2.   Prevendo medv usando como preditor age;\n",
        "3.   Usando ambos os preditores.\n",
        "\n",
        "\n"
      ]
    },
    {
      "metadata": {
        "id": "m0kszMKzVM8L",
        "colab_type": "code",
        "colab": {}
      },
      "cell_type": "code",
      "source": [
        "import pandas as pd # fornece ferramentas de análise de dados\n",
        "import statsmodels.formula.api as sms # fornece classes e funções para a estimativa de modelos estatísticos\n",
        "import matplotlib.pyplot as plt  # fornece uma maneira de plotagem semelhante ao MATLAB.\n",
        "import numpy as np # fornece ferramentas para realizar cálculos em Arrays Multidimensionais\n",
        "# %matplotlib inline (a saída dos comandos de plotagem é exibida em linha nos frontends)\n",
        "%matplotlib inline "
      ],
      "execution_count": 0,
      "outputs": []
    },
    {
      "metadata": {
        "id": "ou-zCMMSeT3C",
        "colab_type": "code",
        "outputId": "375a639d-6d23-4411-b86f-71c783275418",
        "colab": {
          "base_uri": "https://localhost:8080/",
          "height": 289
        }
      },
      "cell_type": "code",
      "source": [
        "# Lendo o dataset boston \n",
        "boston = pd.DataFrame.from_csv(\"https://raw.githubusercontent.com/selva86/datasets/master/BostonHousing.csv\")\n",
        "boston.head()"
      ],
      "execution_count": 3,
      "outputs": [
        {
          "output_type": "stream",
          "text": [
            "/usr/local/lib/python3.6/dist-packages/ipykernel_launcher.py:1: FutureWarning: from_csv is deprecated. Please use read_csv(...) instead. Note that some of the default arguments are different, so please refer to the documentation for from_csv when changing your function calls\n",
            "  \"\"\"Entry point for launching an IPython kernel.\n"
          ],
          "name": "stderr"
        },
        {
          "output_type": "execute_result",
          "data": {
            "text/html": [
              "<div>\n",
              "<style scoped>\n",
              "    .dataframe tbody tr th:only-of-type {\n",
              "        vertical-align: middle;\n",
              "    }\n",
              "\n",
              "    .dataframe tbody tr th {\n",
              "        vertical-align: top;\n",
              "    }\n",
              "\n",
              "    .dataframe thead th {\n",
              "        text-align: right;\n",
              "    }\n",
              "</style>\n",
              "<table border=\"1\" class=\"dataframe\">\n",
              "  <thead>\n",
              "    <tr style=\"text-align: right;\">\n",
              "      <th></th>\n",
              "      <th>zn</th>\n",
              "      <th>indus</th>\n",
              "      <th>chas</th>\n",
              "      <th>nox</th>\n",
              "      <th>rm</th>\n",
              "      <th>age</th>\n",
              "      <th>dis</th>\n",
              "      <th>rad</th>\n",
              "      <th>tax</th>\n",
              "      <th>ptratio</th>\n",
              "      <th>b</th>\n",
              "      <th>lstat</th>\n",
              "      <th>medv</th>\n",
              "    </tr>\n",
              "    <tr>\n",
              "      <th>crim</th>\n",
              "      <th></th>\n",
              "      <th></th>\n",
              "      <th></th>\n",
              "      <th></th>\n",
              "      <th></th>\n",
              "      <th></th>\n",
              "      <th></th>\n",
              "      <th></th>\n",
              "      <th></th>\n",
              "      <th></th>\n",
              "      <th></th>\n",
              "      <th></th>\n",
              "      <th></th>\n",
              "    </tr>\n",
              "  </thead>\n",
              "  <tbody>\n",
              "    <tr>\n",
              "      <th>0.00632</th>\n",
              "      <td>18.0</td>\n",
              "      <td>2.31</td>\n",
              "      <td>0</td>\n",
              "      <td>0.538</td>\n",
              "      <td>6.575</td>\n",
              "      <td>65.2</td>\n",
              "      <td>4.0900</td>\n",
              "      <td>1</td>\n",
              "      <td>296</td>\n",
              "      <td>15.3</td>\n",
              "      <td>396.90</td>\n",
              "      <td>4.98</td>\n",
              "      <td>24.0</td>\n",
              "    </tr>\n",
              "    <tr>\n",
              "      <th>0.02731</th>\n",
              "      <td>0.0</td>\n",
              "      <td>7.07</td>\n",
              "      <td>0</td>\n",
              "      <td>0.469</td>\n",
              "      <td>6.421</td>\n",
              "      <td>78.9</td>\n",
              "      <td>4.9671</td>\n",
              "      <td>2</td>\n",
              "      <td>242</td>\n",
              "      <td>17.8</td>\n",
              "      <td>396.90</td>\n",
              "      <td>9.14</td>\n",
              "      <td>21.6</td>\n",
              "    </tr>\n",
              "    <tr>\n",
              "      <th>0.02729</th>\n",
              "      <td>0.0</td>\n",
              "      <td>7.07</td>\n",
              "      <td>0</td>\n",
              "      <td>0.469</td>\n",
              "      <td>7.185</td>\n",
              "      <td>61.1</td>\n",
              "      <td>4.9671</td>\n",
              "      <td>2</td>\n",
              "      <td>242</td>\n",
              "      <td>17.8</td>\n",
              "      <td>392.83</td>\n",
              "      <td>4.03</td>\n",
              "      <td>34.7</td>\n",
              "    </tr>\n",
              "    <tr>\n",
              "      <th>0.03237</th>\n",
              "      <td>0.0</td>\n",
              "      <td>2.18</td>\n",
              "      <td>0</td>\n",
              "      <td>0.458</td>\n",
              "      <td>6.998</td>\n",
              "      <td>45.8</td>\n",
              "      <td>6.0622</td>\n",
              "      <td>3</td>\n",
              "      <td>222</td>\n",
              "      <td>18.7</td>\n",
              "      <td>394.63</td>\n",
              "      <td>2.94</td>\n",
              "      <td>33.4</td>\n",
              "    </tr>\n",
              "    <tr>\n",
              "      <th>0.06905</th>\n",
              "      <td>0.0</td>\n",
              "      <td>2.18</td>\n",
              "      <td>0</td>\n",
              "      <td>0.458</td>\n",
              "      <td>7.147</td>\n",
              "      <td>54.2</td>\n",
              "      <td>6.0622</td>\n",
              "      <td>3</td>\n",
              "      <td>222</td>\n",
              "      <td>18.7</td>\n",
              "      <td>396.90</td>\n",
              "      <td>5.33</td>\n",
              "      <td>36.2</td>\n",
              "    </tr>\n",
              "  </tbody>\n",
              "</table>\n",
              "</div>"
            ],
            "text/plain": [
              "           zn  indus  chas    nox     rm   age     dis  rad  tax  ptratio  \\\n",
              "crim                                                                        \n",
              "0.00632  18.0   2.31     0  0.538  6.575  65.2  4.0900    1  296     15.3   \n",
              "0.02731   0.0   7.07     0  0.469  6.421  78.9  4.9671    2  242     17.8   \n",
              "0.02729   0.0   7.07     0  0.469  7.185  61.1  4.9671    2  242     17.8   \n",
              "0.03237   0.0   2.18     0  0.458  6.998  45.8  6.0622    3  222     18.7   \n",
              "0.06905   0.0   2.18     0  0.458  7.147  54.2  6.0622    3  222     18.7   \n",
              "\n",
              "              b  lstat  medv  \n",
              "crim                          \n",
              "0.00632  396.90   4.98  24.0  \n",
              "0.02731  396.90   9.14  21.6  \n",
              "0.02729  392.83   4.03  34.7  \n",
              "0.03237  394.63   2.94  33.4  \n",
              "0.06905  396.90   5.33  36.2  "
            ]
          },
          "metadata": {
            "tags": []
          },
          "execution_count": 3
        }
      ]
    },
    {
      "metadata": {
        "id": "SV58lhimgjY6",
        "colab_type": "code",
        "colab": {}
      },
      "cell_type": "code",
      "source": [
        "# Primeira estimativa: medv usando como preditor lstat\n",
        "\n",
        "reg1 = sms.ols(formula=\"medv ~ lstat\", data=boston).fit()\n",
        "print (reg1.summary())\n",
        " \n"
      ],
      "execution_count": 0,
      "outputs": []
    },
    {
      "metadata": {
        "id": "SE-AiE5ooQwd",
        "colab_type": "code",
        "colab": {}
      },
      "cell_type": "code",
      "source": [
        "# Segunda estimativa: medv usando como preditor age\n",
        "\n",
        "reg2 = sms.ols(formula=\"medv ~ age\", data=boston).fit()\n",
        "print (reg2.summary())"
      ],
      "execution_count": 0,
      "outputs": []
    },
    {
      "metadata": {
        "id": "zObDoIj2oVau",
        "colab_type": "code",
        "colab": {}
      },
      "cell_type": "code",
      "source": [
        "# Terceira estimativa: usando ambos como preditor\n",
        "\n",
        "reg3 = sms.ols(formula= \"medv ~ lstat + age\", data=boston).fit()\n",
        "print(reg3.summary())"
      ],
      "execution_count": 0,
      "outputs": []
    },
    {
      "metadata": {
        "id": "_488SNk7D2CA",
        "colab_type": "text"
      },
      "cell_type": "markdown",
      "source": [
        "O que podemos dizer sobre o comportamento dos coeficientes estimados?\n",
        "E sobre o ajuste dos modelos?\n",
        "\n"
      ]
    },
    {
      "metadata": {
        "id": "uTDej7BDqKe8",
        "colab_type": "text"
      },
      "cell_type": "markdown",
      "source": [
        "Parte 2 -  \n",
        "\n",
        "\n",
        "Estime uma regressão usando todas as variáveis como preditoras. Todas são úteis para prever medv? Quais você deixaria e quais tiraria? Por quê?\n",
        "\n",
        "*   Como foi o ajuste desse modelo?\n",
        "\n",
        "*   Agora tire as variáveis que você considerou que não ajudam a estimação de medv. O que aconteceu com o ajuste do modelo?\n",
        "\n",
        "\n",
        "\n"
      ]
    },
    {
      "metadata": {
        "id": "R0psvg022OQv",
        "colab_type": "code",
        "colab": {}
      },
      "cell_type": "code",
      "source": [
        "reg4 = sms.ols(formula= \"medv ~ zn + indus + chas + nox + rm + age \\\n",
        "               + dis + rad + tax + ptratio + b + lstat\", data = boston).fit()\n",
        "print(reg4.summary())"
      ],
      "execution_count": 0,
      "outputs": []
    },
    {
      "metadata": {
        "id": "d5K3TY5VIvXH",
        "colab_type": "text"
      },
      "cell_type": "markdown",
      "source": [
        "feedback da análise >here<"
      ]
    },
    {
      "metadata": {
        "id": "lCBor-oNHcWC",
        "colab_type": "text"
      },
      "cell_type": "markdown",
      "source": [
        "Exercício 2\n",
        "\n",
        "\n",
        "---\n",
        "\n",
        "\n",
        "\n",
        "Vamos fazer algumas investigações no banco credit. Aí estão dados de cartão de crédito com as seguintes variáveis:\n",
        "\n",
        "Income - renda em milhares de dólares;\n",
        "Limit - limite de crédito;\n",
        "Rating - o score de crédito;\n",
        "Card - número de cartões de crédito que a pessoa possui;\n",
        "Age - idade;\n",
        "Education - anos de escolaridade;\n",
        "Gender - sexo;\n",
        "Student - se é estudante;\n",
        "Married - se é casado;\n",
        "Ethnicity - etnia e\n",
        "Balance - dívida média de cartão de crédito.\n",
        "\n",
        "\n",
        "---\n"
      ]
    },
    {
      "metadata": {
        "id": "PPiTEDLTJQbD",
        "colab_type": "code",
        "colab": {
          "base_uri": "https://localhost:8080/",
          "height": 306
        },
        "outputId": "fcb7b7cb-b9a5-4025-df0b-51a5cd799a45"
      },
      "cell_type": "code",
      "source": [
        "\n",
        "import numpy as np\n",
        "import pandas as pd\n",
        "import statsmodels.formula.api as sms\n",
        "\n",
        "# Lendo o dataset credit\n",
        "credit = pd.read_csv(\"http://www-bcf.usc.edu/~gareth/ISL/Credit.csv\")\n",
        "# Tira a primeira coluna\n",
        "print(credit.columns)\n",
        "credit = credit.drop(columns=['Unnamed: 0'])\n",
        "# Após retirar coluna com índices...\n",
        "print(credit.columns)\n",
        "credit.head()\n"
      ],
      "execution_count": 29,
      "outputs": [
        {
          "output_type": "stream",
          "text": [
            "Index(['Unnamed: 0', 'Income', 'Limit', 'Rating', 'Cards', 'Age', 'Education',\n",
            "       'Gender', 'Student', 'Married', 'Ethnicity', 'Balance'],\n",
            "      dtype='object')\n",
            "Index(['Income', 'Limit', 'Rating', 'Cards', 'Age', 'Education', 'Gender',\n",
            "       'Student', 'Married', 'Ethnicity', 'Balance'],\n",
            "      dtype='object')\n"
          ],
          "name": "stdout"
        },
        {
          "output_type": "execute_result",
          "data": {
            "text/html": [
              "<div>\n",
              "<style scoped>\n",
              "    .dataframe tbody tr th:only-of-type {\n",
              "        vertical-align: middle;\n",
              "    }\n",
              "\n",
              "    .dataframe tbody tr th {\n",
              "        vertical-align: top;\n",
              "    }\n",
              "\n",
              "    .dataframe thead th {\n",
              "        text-align: right;\n",
              "    }\n",
              "</style>\n",
              "<table border=\"1\" class=\"dataframe\">\n",
              "  <thead>\n",
              "    <tr style=\"text-align: right;\">\n",
              "      <th></th>\n",
              "      <th>Income</th>\n",
              "      <th>Limit</th>\n",
              "      <th>Rating</th>\n",
              "      <th>Cards</th>\n",
              "      <th>Age</th>\n",
              "      <th>Education</th>\n",
              "      <th>Gender</th>\n",
              "      <th>Student</th>\n",
              "      <th>Married</th>\n",
              "      <th>Ethnicity</th>\n",
              "      <th>Balance</th>\n",
              "    </tr>\n",
              "  </thead>\n",
              "  <tbody>\n",
              "    <tr>\n",
              "      <th>0</th>\n",
              "      <td>14.891</td>\n",
              "      <td>3606</td>\n",
              "      <td>283</td>\n",
              "      <td>2</td>\n",
              "      <td>34</td>\n",
              "      <td>11</td>\n",
              "      <td>Male</td>\n",
              "      <td>No</td>\n",
              "      <td>Yes</td>\n",
              "      <td>Caucasian</td>\n",
              "      <td>333</td>\n",
              "    </tr>\n",
              "    <tr>\n",
              "      <th>1</th>\n",
              "      <td>106.025</td>\n",
              "      <td>6645</td>\n",
              "      <td>483</td>\n",
              "      <td>3</td>\n",
              "      <td>82</td>\n",
              "      <td>15</td>\n",
              "      <td>Female</td>\n",
              "      <td>Yes</td>\n",
              "      <td>Yes</td>\n",
              "      <td>Asian</td>\n",
              "      <td>903</td>\n",
              "    </tr>\n",
              "    <tr>\n",
              "      <th>2</th>\n",
              "      <td>104.593</td>\n",
              "      <td>7075</td>\n",
              "      <td>514</td>\n",
              "      <td>4</td>\n",
              "      <td>71</td>\n",
              "      <td>11</td>\n",
              "      <td>Male</td>\n",
              "      <td>No</td>\n",
              "      <td>No</td>\n",
              "      <td>Asian</td>\n",
              "      <td>580</td>\n",
              "    </tr>\n",
              "    <tr>\n",
              "      <th>3</th>\n",
              "      <td>148.924</td>\n",
              "      <td>9504</td>\n",
              "      <td>681</td>\n",
              "      <td>3</td>\n",
              "      <td>36</td>\n",
              "      <td>11</td>\n",
              "      <td>Female</td>\n",
              "      <td>No</td>\n",
              "      <td>No</td>\n",
              "      <td>Asian</td>\n",
              "      <td>964</td>\n",
              "    </tr>\n",
              "    <tr>\n",
              "      <th>4</th>\n",
              "      <td>55.882</td>\n",
              "      <td>4897</td>\n",
              "      <td>357</td>\n",
              "      <td>2</td>\n",
              "      <td>68</td>\n",
              "      <td>16</td>\n",
              "      <td>Male</td>\n",
              "      <td>No</td>\n",
              "      <td>Yes</td>\n",
              "      <td>Caucasian</td>\n",
              "      <td>331</td>\n",
              "    </tr>\n",
              "  </tbody>\n",
              "</table>\n",
              "</div>"
            ],
            "text/plain": [
              "    Income  Limit  Rating  Cards  Age  Education  Gender Student Married  \\\n",
              "0   14.891   3606     283      2   34         11    Male      No     Yes   \n",
              "1  106.025   6645     483      3   82         15  Female     Yes     Yes   \n",
              "2  104.593   7075     514      4   71         11    Male      No      No   \n",
              "3  148.924   9504     681      3   36         11  Female      No      No   \n",
              "4   55.882   4897     357      2   68         16    Male      No     Yes   \n",
              "\n",
              "   Ethnicity  Balance  \n",
              "0  Caucasian      333  \n",
              "1      Asian      903  \n",
              "2      Asian      580  \n",
              "3      Asian      964  \n",
              "4  Caucasian      331  "
            ]
          },
          "metadata": {
            "tags": []
          },
          "execution_count": 29
        }
      ]
    },
    {
      "metadata": {
        "id": "Bjb8VsnVJ8uG",
        "colab_type": "text"
      },
      "cell_type": "markdown",
      "source": [
        "1-\n",
        "Estude a diferença entre o*** balance ***entre*** homens e mulheres ***usando um modelo de regressão. Interprete os resultados.\n",
        "\n"
      ]
    },
    {
      "metadata": {
        "id": "jiZCjXUeKLNM",
        "colab_type": "code",
        "colab": {
          "base_uri": "https://localhost:8080/",
          "height": 442
        },
        "outputId": "e271d466-ccb3-45a8-9029-137bd37d1dc6"
      },
      "cell_type": "code",
      "source": [
        "reg1 = sms.ols(\"Balance ~ Gender\", data=credit).fit()\n",
        "print(reg1.summary())"
      ],
      "execution_count": 21,
      "outputs": [
        {
          "output_type": "stream",
          "text": [
            "                            OLS Regression Results                            \n",
            "==============================================================================\n",
            "Dep. Variable:                Balance   R-squared:                       0.000\n",
            "Model:                            OLS   Adj. R-squared:                 -0.002\n",
            "Method:                 Least Squares   F-statistic:                    0.1836\n",
            "Date:                Mon, 18 Mar 2019   Prob (F-statistic):              0.669\n",
            "Time:                        19:08:06   Log-Likelihood:                -3019.3\n",
            "No. Observations:                 400   AIC:                             6043.\n",
            "Df Residuals:                     398   BIC:                             6051.\n",
            "Df Model:                           1                                         \n",
            "Covariance Type:            nonrobust                                         \n",
            "==================================================================================\n",
            "                     coef    std err          t      P>|t|      [0.025      0.975]\n",
            "----------------------------------------------------------------------------------\n",
            "Intercept        529.5362     31.988     16.554      0.000     466.649     592.423\n",
            "Gender[T.Male]   -19.7331     46.051     -0.429      0.669    -110.267      70.801\n",
            "==============================================================================\n",
            "Omnibus:                       28.438   Durbin-Watson:                   1.940\n",
            "Prob(Omnibus):                  0.000   Jarque-Bera (JB):               27.346\n",
            "Skew:                           0.583   Prob(JB):                     1.15e-06\n",
            "Kurtosis:                       2.471   Cond. No.                         2.58\n",
            "==============================================================================\n",
            "\n",
            "Warnings:\n",
            "[1] Standard Errors assume that the covariance matrix of the errors is correctly specified.\n"
          ],
          "name": "stdout"
        }
      ]
    },
    {
      "metadata": {
        "id": "fGjJT3l8KY4i",
        "colab_type": "text"
      },
      "cell_type": "markdown",
      "source": [
        "O P-value preditivo de Gender/sexo é 0.669. Sendo então maior que 0.05 e consequentemente o efeito é considerado nulo.\n",
        "\n",
        "\n",
        "\n",
        "---\n",
        "\n",
        "\n",
        "2-\n",
        "Estude a diferença entre o ***balance*** entre pessoas de diferentes etnias usando um modelo de regressão. Interprete os resultados.\n"
      ]
    },
    {
      "metadata": {
        "id": "Oj_t74EmLU52",
        "colab_type": "code",
        "colab": {
          "base_uri": "https://localhost:8080/",
          "height": 459
        },
        "outputId": "8d44e51b-e6ac-44d3-ee7d-b6ea665805fa"
      },
      "cell_type": "code",
      "source": [
        "reg2 = sms.ols(\"Balance ~ Ethnicity\", data=credit).fit()\n",
        "print(reg2.summary())"
      ],
      "execution_count": 23,
      "outputs": [
        {
          "output_type": "stream",
          "text": [
            "                            OLS Regression Results                            \n",
            "==============================================================================\n",
            "Dep. Variable:                Balance   R-squared:                       0.000\n",
            "Model:                            OLS   Adj. R-squared:                 -0.005\n",
            "Method:                 Least Squares   F-statistic:                   0.04344\n",
            "Date:                Mon, 18 Mar 2019   Prob (F-statistic):              0.957\n",
            "Time:                        19:08:44   Log-Likelihood:                -3019.3\n",
            "No. Observations:                 400   AIC:                             6045.\n",
            "Df Residuals:                     397   BIC:                             6057.\n",
            "Df Model:                           2                                         \n",
            "Covariance Type:            nonrobust                                         \n",
            "==========================================================================================\n",
            "                             coef    std err          t      P>|t|      [0.025      0.975]\n",
            "------------------------------------------------------------------------------------------\n",
            "Intercept                531.0000     46.319     11.464      0.000     439.939     622.061\n",
            "Ethnicity[T.Asian]       -18.6863     65.021     -0.287      0.774    -146.515     109.142\n",
            "Ethnicity[T.Caucasian]   -12.5025     56.681     -0.221      0.826    -123.935      98.930\n",
            "==============================================================================\n",
            "Omnibus:                       28.829   Durbin-Watson:                   1.946\n",
            "Prob(Omnibus):                  0.000   Jarque-Bera (JB):               27.395\n",
            "Skew:                           0.581   Prob(JB):                     1.13e-06\n",
            "Kurtosis:                       2.460   Cond. No.                         4.39\n",
            "==============================================================================\n",
            "\n",
            "Warnings:\n",
            "[1] Standard Errors assume that the covariance matrix of the errors is correctly specified.\n"
          ],
          "name": "stdout"
        }
      ]
    },
    {
      "metadata": {
        "id": "ycGRPSJANWwI",
        "colab_type": "text"
      },
      "cell_type": "markdown",
      "source": [
        "O P-value preditivo de Ethnicity é 0.774 (Asian) e 0.826 (Caucasian). Sendo então maior que 0.05 e consequentemente o efeito é considerado nulo.\n",
        "\n",
        "---\n",
        "\n",
        "3-\n",
        "Estime agora um modelo de regressão utilizando todas as variáveis presentes. O que podemos dizer sobre os resultados? Todas as variáveis ajudam a explicar o balance? Quais variáveis você tiraria? Como ficaria seu novo modelo?"
      ]
    },
    {
      "metadata": {
        "id": "tt2Jeu88ORMm",
        "colab_type": "code",
        "colab": {
          "base_uri": "https://localhost:8080/",
          "height": 646
        },
        "outputId": "9c9af151-10e1-40c6-c2bc-3ad8cee35575"
      },
      "cell_type": "code",
      "source": [
        "reg3 = sms.ols(\"Balance ~ Income + Limit + Rating + Cards + Age + Education \\\n",
        "               + Gender + Student + Married + Ethnicity\", data=credit).fit()\n",
        "print(reg3.summary())"
      ],
      "execution_count": 26,
      "outputs": [
        {
          "output_type": "stream",
          "text": [
            "                            OLS Regression Results                            \n",
            "==============================================================================\n",
            "Dep. Variable:                Balance   R-squared:                       0.955\n",
            "Model:                            OLS   Adj. R-squared:                  0.954\n",
            "Method:                 Least Squares   F-statistic:                     750.3\n",
            "Date:                Mon, 18 Mar 2019   Prob (F-statistic):          1.11e-253\n",
            "Time:                        19:26:37   Log-Likelihood:                -2398.7\n",
            "No. Observations:                 400   AIC:                             4821.\n",
            "Df Residuals:                     388   BIC:                             4869.\n",
            "Df Model:                          11                                         \n",
            "Covariance Type:            nonrobust                                         \n",
            "==========================================================================================\n",
            "                             coef    std err          t      P>|t|      [0.025      0.975]\n",
            "------------------------------------------------------------------------------------------\n",
            "Intercept               -489.8611     35.801    -13.683      0.000    -560.250    -419.473\n",
            "Gender[T.Male]            10.6532      9.914      1.075      0.283      -8.839      30.145\n",
            "Student[T.Yes]           425.7474     16.723     25.459      0.000     392.869     458.626\n",
            "Married[T.Yes]            -8.5339     10.363     -0.824      0.411     -28.908      11.841\n",
            "Ethnicity[T.Asian]        16.8042     14.119      1.190      0.235     -10.955      44.564\n",
            "Ethnicity[T.Caucasian]    10.1070     12.210      0.828      0.408     -13.899      34.113\n",
            "Income                    -7.8031      0.234    -33.314      0.000      -8.264      -7.343\n",
            "Limit                      0.1909      0.033      5.824      0.000       0.126       0.255\n",
            "Rating                     1.1365      0.491      2.315      0.021       0.171       2.102\n",
            "Cards                     17.7245      4.341      4.083      0.000       9.190      26.259\n",
            "Age                       -0.6139      0.294     -2.088      0.037      -1.192      -0.036\n",
            "Education                 -1.0989      1.598     -0.688      0.492      -4.241       2.043\n",
            "==============================================================================\n",
            "Omnibus:                       34.899   Durbin-Watson:                   1.968\n",
            "Prob(Omnibus):                  0.000   Jarque-Bera (JB):               41.766\n",
            "Skew:                           0.782   Prob(JB):                     8.52e-10\n",
            "Kurtosis:                       3.241   Cond. No.                     3.87e+04\n",
            "==============================================================================\n",
            "\n",
            "Warnings:\n",
            "[1] Standard Errors assume that the covariance matrix of the errors is correctly specified.\n",
            "[2] The condition number is large, 3.87e+04. This might indicate that there are\n",
            "strong multicollinearity or other numerical problems.\n"
          ],
          "name": "stdout"
        }
      ]
    },
    {
      "metadata": {
        "id": "5snn_Yw7RnOm",
        "colab_type": "code",
        "colab": {}
      },
      "cell_type": "code",
      "source": [
        ""
      ],
      "execution_count": 0,
      "outputs": []
    },
    {
      "metadata": {
        "id": "FeKUsiwxQv32",
        "colab_type": "text"
      },
      "cell_type": "markdown",
      "source": [
        ""
      ]
    }
  ]
}
